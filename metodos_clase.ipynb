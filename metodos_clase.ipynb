{
 "cells": [
  {
   "cell_type": "code",
   "execution_count": 2,
   "metadata": {},
   "outputs": [
    {
     "name": "stdout",
     "output_type": "stream",
     "text": [
      "Dogo Argentino\n",
      "5\n",
      "¡Guau!\n"
     ]
    }
   ],
   "source": [
    "class Perro:\n",
    "    def __init__(self, raza, color, edad): #Construcción de la clase para dar paso a al instancia\n",
    "        self.raza = raza\n",
    "        self.color = color\n",
    "        self.edad = edad\n",
    "\n",
    "    def ladrar(self):\n",
    "        print(\"¡Guau!\")\n",
    "#---------------------------------------- Utilizando el método de clase    \n",
    "    @classmethod\n",
    "    def crear_perro_quiltro(cls, color, edad):  #Atención con el cls\n",
    "        return cls(\"Quiltro\", color, edad)  # Crea un perro Quiltro por defecto\n",
    "#-------------------------------------------------------------\n",
    "#Instancia a través de el método de clase\n",
    "\n",
    "Quilterrier = Perro.crear_perro_quiltro(\"Marron\",2)    \n",
    "\n",
    "#------------------------------------ Construcción de la instancia\n",
    "Kira = Perro(\"Dogo Argentino\", \"Blanco\", 7)\n",
    "Morita = Perro(\"Pastor Alemán\", \"Cafe\", 5)\n",
    "# ----------------------------------- Trabajando con la instancia, utilizando métodos de la instancia\n",
    "print(Kira.raza)\n",
    "print(Morita.edad) \n",
    "Kira.ladrar()  \n"
   ]
  },
  {
   "cell_type": "code",
   "execution_count": 23,
   "metadata": {},
   "outputs": [
    {
     "name": "stdout",
     "output_type": "stream",
     "text": [
      "35\n"
     ]
    }
   ],
   "source": [
    "class Perro:\n",
    "    def __init__(self, raza, color, edad, altura, peso): #Construcción de la clase para dar paso a al instancia\n",
    "        self.raza = raza\n",
    "        self.color = color\n",
    "        self.edad = edad\n",
    "        self.altura = altura\n",
    "        self.peso = peso\n",
    "\n",
    "    def ladrar(self):\n",
    "        print(\"¡Guau!\")\n",
    "# #---------------------------------------- Utilizando el método de clase    \n",
    "#     @classmethod\n",
    "#     def crear_perro_quiltro(cls, color, edad, altura, peso):\n",
    "#         return cls(\"Quiltro\", color, edad)  # Crea un perro Quiltro por defecto\n",
    "#-------------------------------------------------------------\n",
    "\n",
    "    @staticmethod\n",
    "    def es_un_animal_domestico():\n",
    "        return False\n",
    "#------------------------------------------\n",
    "    def imc_calc(self):\n",
    "        imc = self.altura + self.peso\n",
    "        return imc\n",
    "#--------------------------------------------------------------\n",
    "#Instancia a través de el método de clase\n",
    "\n",
    "# Quilterrier = Perro.crear_perro_quiltro(\"Marron\",2, 2, 2)\n",
    "\n",
    "#------------------------------------ Construcción de la instancia\n",
    "Kira = Perro(\"Dogo Argentino\", \"Blanco\", 7, 15, 15)\n",
    "Morita = Perro(\"Pastor Alemán\", \"Cafe\", 5, 20, 15)\n",
    "# ----------------------------------- Trabajando con la instancia, utilizando métodos de la instancia\n",
    "# print(Kira.raza)\n",
    "# print(Morita.edad) \n",
    "# Kira.ladrar()  \n",
    "\n",
    "print(Morita.imc_calc())\n",
    "\n"
   ]
  }
 ],
 "metadata": {
  "kernelspec": {
   "display_name": "Python 3",
   "language": "python",
   "name": "python3"
  },
  "language_info": {
   "codemirror_mode": {
    "name": "ipython",
    "version": 3
   },
   "file_extension": ".py",
   "mimetype": "text/x-python",
   "name": "python",
   "nbconvert_exporter": "python",
   "pygments_lexer": "ipython3",
   "version": "3.11.0"
  }
 },
 "nbformat": 4,
 "nbformat_minor": 2
}
